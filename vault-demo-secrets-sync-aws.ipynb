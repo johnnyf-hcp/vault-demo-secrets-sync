{
 "cells": [
  {
   "cell_type": "markdown",
   "metadata": {},
   "source": [
    "# HashiCorp Vault Demo for Secrets Sync features.\n",
    "\n",
    "HashiCorp Vault's Secrets Sync feature manages the entire lifecycle of the secret and the secret is synchronized to the desired destination provider.  Applications will still be able to natively into the desired destination provider of choice.  This provides an easy way for applications to get the Zero Trust benefits of Vault without having to directly integrate with Vault.  i.e. Centralized secret inventory, audit and reporting, and automation of credential rotation.\n",
    "\n",
    "Supported destinations include\n",
    "- AWS Secrets Manager\n",
    "- Azure Key Vault\n",
    "- GCP Secret Manager\n",
    "- GitHub Repository Actions\n",
    "- Vercel Projects\n",
    "Ref: https://developer.hashicorp.com/vault/docs/sync#destinations\n",
    "\n",
    "<img src=\"images/vault-demo-secrets-sync-aws.png\">\n",
    "\n",
    "In this demo, we will show how key/value secrets that are stored in Vault's KV v2 Secret Engine are actively synchronized into an external target destination used by applications. If the secret value is updated in Vault, the secret is updated in the destination as well. If the secret is deleted from Vault, it is deleted on the external system as well. This process is asynchronous and event-based. Vault propagates modifications into the proper destinations automatically in a few seconds.\n",
    "\n",
    "To run this notebook in VS Code, chose the Jupyter kernel and then Bash\n",
    "\n",
    "This assumes your Vault server is installed using docker and already running on http://127.0.0.1:8200\n",
    "and you have set your VAULT_ADDR and VAULT_TOKEN variables.\n",
    "\n",
    "This also assumes you have the Vault CLI installed.\n",
    "\n",
    "You will need Vault to be installed with an Enterprise license.\n",
    "\n",
    "# Setting Up the Vault"
   ]
  },
  {
   "cell_type": "code",
   "execution_count": null,
   "metadata": {
    "vscode": {
     "languageId": "shellscript"
    }
   },
   "outputs": [],
   "source": [
    "# For HashiCorp staff only.  Log in via doormat and populate your AWS credentials into your environment variables.\n",
    "doormat login -f && eval $(doormat aws export --role $(doormat aws list | grep -m 1 role))\n",
    "\n",
    "# For normal usage, you will setup the AWS IAM programmatic credentials that contain the permissions to secrets manager\n",
    "# Ref: https://developer.hashicorp.com/vault/docs/sync/awssm#setup\n",
    "\n",
    "# Make sure the AWS_ACCESS_KEY_ID, AWS_SECRET_ACCESS_KEY, and AWS_SESSION_TOKEN environment variables are populated\n",
    "echo\n",
    "echo \"AWS_ACCESS_KEY_ID: ${AWS_ACCESS_KEY_ID}\"\n",
    "echo \"AWS_SECRET_ACCESS_KEY: ${AWS_SECRET_ACCESS_KEY}\"\n",
    "echo \"AWS_SESSION_TOKEN: ${AWS_SESSION_TOKEN}\""
   ]
  },
  {
   "cell_type": "code",
   "execution_count": null,
   "metadata": {
    "vscode": {
     "languageId": "shellscript"
    }
   },
   "outputs": [],
   "source": [
    "# For this demo, we will be passing our doormat credentials as environment variables.\n",
    "# For non-doormat scenarios, use your configured IAM programmatic credentials in the secret sync configuration later on.\n",
    "export VAULT_PORT=8200\n",
    "export VAULT_ADDR=\"http://127.0.0.1:${VAULT_PORT}\"\n",
    "export VAULT_TOKEN=\"root\"\n",
    "\n",
    "# Change the path to your license file\n",
    "export VAULT_LICENSE=$(cat $HOME/vault-enterprise/vault_local/data/vault.hclic)\n",
    "\n",
    "# Refresh Vault docker image with latest version\n",
    "#docker pull hashicorp/vault-enterprise\n",
    "\n",
    "# Run Vault in docker in Dev mode with Enterprise license.\n",
    "# We have set VAULT_LOG_LEVEL to trace for troubleshooting purposes.  This will allow you to view detailed information as you test.\n",
    "docker run -d --rm --name vault-enterprise --cap-add=IPC_LOCK \\\n",
    "-e \"VAULT_DEV_ROOT_TOKEN_ID=${VAULT_TOKEN}\" \\\n",
    "-e \"VAULT_DEV_LISTEN_ADDRESS=:${VAULT_PORT}\" \\\n",
    "-e \"VAULT_LICENSE=${VAULT_LICENSE}\" \\\n",
    "-e \"VAULT_LOG_LEVEL=trace\" \\\n",
    "-p ${VAULT_PORT}:${VAULT_PORT} hashicorp/vault-enterprise:latest\n"
   ]
  },
  {
   "cell_type": "markdown",
   "metadata": {},
   "source": [
    "# Set up secrets sync with AWS Secrets Manager\n",
    "\n",
    "Ref:\n",
    "- https://developer.hashicorp.com/vault/docs/sync/awssm"
   ]
  },
  {
   "cell_type": "code",
   "execution_count": null,
   "metadata": {
    "vscode": {
     "languageId": "shellscript"
    }
   },
   "outputs": [],
   "source": [
    "# Enable KV v2 secret engine\n",
    "#This will be used to show the sync to the external secrets engine.\n",
    "export KV_V2_PATH=demo-kv\n",
    "vault secrets enable -path=$KV_V2_PATH kv-v2"
   ]
  },
  {
   "cell_type": "code",
   "execution_count": null,
   "metadata": {
    "vscode": {
     "languageId": "shellscript"
    }
   },
   "outputs": [],
   "source": [
    "# Simulate storing a database secret in the KV v2 secret engine\n",
    "# We will be generating random values for the userid and password\n",
    "export MY_SECRET_NAME=demo-database-secret\n",
    "echo \"MY_SECRET_NAME: $MY_SECRET_NAME\"\n",
    "echo\n",
    "vault kv put -mount=$KV_V2_PATH $MY_SECRET_NAME \\\n",
    "  userid=\"svc-account-$(openssl rand -base64 10 | tr -dc 'a-zA-Z0-9')\" \\\n",
    "  password=\"$(openssl rand -base64 20 | tr -dc 'a-zA-Z0-9')\""
   ]
  },
  {
   "cell_type": "code",
   "execution_count": null,
   "metadata": {
    "vscode": {
     "languageId": "shellscript"
    }
   },
   "outputs": [],
   "source": [
    "export AWS_REGION=us-east-1\n",
    "# Write the configuration for the sync settings\n",
    "vault write sys/sync/destinations/aws-sm/my-awssm-1 \\\n",
    "     access_key_id=\"$AWS_ACCESS_KEY_ID\" \\\n",
    "     secret_access_key=\"$AWS_SECRET_ACCESS_KEY\" \\\n",
    "     session_token=\"$AWS_SESSION_TOKEN\" \\\n",
    "     region=\"$AWS_REGION\"\n",
    "\n",
    "# Use this command when you have the AWS IAM programmatic keys without the session token\n",
    "# vault write sys/sync/destinations/aws-sm/my-awssm-1 \\\n",
    "#      access_key_id=\"$AWS_ACCESS_KEY_ID\" \\\n",
    "#      secret_access_key=\"$AWS_SECRET_ACCESS_KEY\" \\\n",
    "#      region=\"$AWS_REGION\"\n"
   ]
  },
  {
   "cell_type": "code",
   "execution_count": null,
   "metadata": {
    "vscode": {
     "languageId": "shellscript"
    }
   },
   "outputs": [],
   "source": [
    "# Configure the sync to the secret\n",
    "echo \"KV v2 Path: $KV_V2_PATH\"\n",
    "echo \"Secret name: $MY_SECRET_NAME\"\n",
    "vault write sys/sync/destinations/aws-sm/my-awssm-1/associations/set \\\n",
    "    mount=\"$KV_V2_PATH\" \\\n",
    "    secret_name=\"$MY_SECRET_NAME\"\n",
    "\n",
    "# Check in your AWS Console that the secret has been created\n",
    "# verify that the secret values match\n",
    "vault kv get $KV_V2_PATH/$MY_SECRET_NAME"
   ]
  },
  {
   "cell_type": "code",
   "execution_count": null,
   "metadata": {
    "vscode": {
     "languageId": "shellscript"
    }
   },
   "outputs": [],
   "source": [
    "# Update the secret value\n",
    "vault kv put -mount=$KV_V2_PATH $MY_SECRET_NAME \\\n",
    "  userid=\"svc-account-$(openssl rand -base64 10 | tr -dc 'a-zA-Z0-9')\" \\\n",
    "  password=\"$(openssl rand -base64 20 | tr -dc 'a-zA-Z0-9')\"\n",
    "\n",
    "# Verify that the secret values match\n",
    "vault kv get $KV_V2_PATH/$MY_SECRET_NAME\n",
    "\n",
    "# Refresh AWS secrets manager to view the new secret value\n"
   ]
  },
  {
   "cell_type": "markdown",
   "metadata": {},
   "source": [
    "# Cleanup"
   ]
  },
  {
   "cell_type": "code",
   "execution_count": null,
   "metadata": {
    "vscode": {
     "languageId": "shellscript"
    }
   },
   "outputs": [],
   "source": [
    "# Cleanup AWS Secrets Manager\n",
    "\n",
    "# Remove association\n",
    "vault write sys/sync/destinations/aws-sm/my-awssm-1/associations/remove \\\n",
    "    mount=\"$KV_V2_PATH\" \\\n",
    "    secret_name=\"$MY_SECRET_NAME\"\n",
    "# Delete secret sync destination\n",
    "vault delete sys/sync/destinations/aws-sm/my-awssm-1"
   ]
  },
  {
   "cell_type": "code",
   "execution_count": null,
   "metadata": {
    "vscode": {
     "languageId": "shellscript"
    }
   },
   "outputs": [],
   "source": [
    "# Stop Vault container\n",
    "docker stop vault-enterprise"
   ]
  }
 ],
 "metadata": {
  "kernelspec": {
   "display_name": "Bash",
   "language": "bash",
   "name": "bash"
  },
  "language_info": {
   "codemirror_mode": "shell",
   "file_extension": ".sh",
   "mimetype": "text/x-sh",
   "name": "bash"
  },
  "orig_nbformat": 4
 },
 "nbformat": 4,
 "nbformat_minor": 2
}

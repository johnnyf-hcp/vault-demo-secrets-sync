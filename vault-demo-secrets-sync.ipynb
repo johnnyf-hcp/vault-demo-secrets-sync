{
 "cells": [
  {
   "cell_type": "markdown",
   "metadata": {},
   "source": [
    "# HashiCorp Vault Demo for Secrets Sync\n",
    "\n",
    "HashiCorp Vault's Secrets Sync feature manages the entire lifecycle of the secret and the secret is synchronized to the desired destination provider.  Applications will still be able to natively integrate with the desired destination provider of choice.  This provides an easy way for applications to get the Zero Trust benefits of Vault without having to directly integrate with Vault.  i.e. Centralized secret inventory, audit and reporting, and automation of credential rotation.\n",
    "\n",
    "Supported destinations include\n",
    "- AWS Secrets Manager\n",
    "- Azure Key Vault\n",
    "- GCP Secret Manager\n",
    "- GitHub Repository Actions\n",
    "- Vercel Projects\n",
    "Ref: https://developer.hashicorp.com/vault/docs/sync#destinations\n",
    "\n",
    "<img src=\"images/vault-demo-secrets-sync.png\">\n",
    "\n",
    "In this demo, we will show how key/value secrets that are stored in Vault's KV v2 Secret Engine are actively synchronized into cloud native secret providers on AWS, Azure, and GCP. As a secret is rotated in Vault, the secret is updated to the cloud native secret provider as well.  If the secret is deleted from Vault, it is deleted on the cloud native secret provider as well. This process is asynchronous and event-based. Vault propagates modifications into the proper destinations automatically in a few seconds.\n",
    "\n",
    "To run this notebook in VS Code, chose the Jupyter kernel and then Bash\n",
    "\n",
    "This assumes your Vault server is installed using docker and already running on http://127.0.0.1:8200\n",
    "and you have set your VAULT_ADDR and VAULT_TOKEN variables.\n",
    "\n",
    "This also assumes you have the Vault CLI installed.\n",
    "\n",
    "You will need Vault to be installed with an Enterprise license.\n",
    "\n",
    "# Setting Up the Vault"
   ]
  },
  {
   "cell_type": "code",
   "execution_count": null,
   "metadata": {
    "vscode": {
     "languageId": "shellscript"
    }
   },
   "outputs": [],
   "source": [
    "# For this demo, we will be passing our doormat credentials as environment variables.\n",
    "# For non-doormat scenarios, use your configured IAM programmatic credentials in the secret sync configuration later on.\n",
    "export VAULT_PORT=8200\n",
    "export VAULT_ADDR=\"http://127.0.0.1:${VAULT_PORT}\"\n",
    "export VAULT_TOKEN=\"root\"\n",
    "\n",
    "# Change the path to your license file\n",
    "export VAULT_LICENSE=$(cat $HOME/vault-enterprise/vault_local/data/vault.hclic)\n",
    "\n",
    "# Refresh Vault docker image with latest version\n",
    "#docker pull hashicorp/vault-enterprise\n",
    "\n",
    "# Run Vault in docker in Dev mode with Enterprise license.\n",
    "# We have set VAULT_LOG_LEVEL to trace for troubleshooting purposes.  This will allow you to view detailed information as you test.\n",
    "docker run -d --rm --name vault-enterprise --cap-add=IPC_LOCK \\\n",
    "-e \"VAULT_DEV_ROOT_TOKEN_ID=${VAULT_TOKEN}\" \\\n",
    "-e \"VAULT_DEV_LISTEN_ADDRESS=:${VAULT_PORT}\" \\\n",
    "-e \"VAULT_LICENSE=${VAULT_LICENSE}\" \\\n",
    "-e \"VAULT_LOG_LEVEL=trace\" \\\n",
    "-p ${VAULT_PORT}:${VAULT_PORT} hashicorp/vault-enterprise:1.15-ent\n",
    "# Note: Pegging to 1.15-ent as 1.16.1 now does not support AWS session tokens."
   ]
  },
  {
   "cell_type": "code",
   "execution_count": null,
   "metadata": {
    "vscode": {
     "languageId": "shellscript"
    }
   },
   "outputs": [],
   "source": [
    "# Verify that Vault is running\n",
    "docker ps"
   ]
  },
  {
   "cell_type": "markdown",
   "metadata": {},
   "source": [
    "# Set up a Secret Value in Vault"
   ]
  },
  {
   "cell_type": "code",
   "execution_count": null,
   "metadata": {
    "vscode": {
     "languageId": "shellscript"
    }
   },
   "outputs": [],
   "source": [
    "# Enable KV v2 secret engine.  We will be storing a secret here.\n",
    "# This will be used to show the sync to the external secrets engine.\n",
    "export KV_V2_PATH=demo-kv\n",
    "vault secrets enable -path=$KV_V2_PATH kv-v2"
   ]
  },
  {
   "cell_type": "code",
   "execution_count": null,
   "metadata": {
    "vscode": {
     "languageId": "shellscript"
    }
   },
   "outputs": [],
   "source": [
    "# Simulate storing a database secret in the KV v2 secret engine\n",
    "# We will be generating random values for the userid and password\n",
    "export MY_SECRET_NAME=demo-database-secret\n",
    "echo \"MY_SECRET_NAME: $MY_SECRET_NAME\"\n",
    "echo\n",
    "vault kv put -mount=$KV_V2_PATH $MY_SECRET_NAME \\\n",
    "  userid=\"svc-account-$(openssl rand -base64 10 | tr -dc 'a-zA-Z0-9')\" \\\n",
    "  password=\"$(openssl rand -base64 20 | tr -dc 'a-zA-Z0-9')\""
   ]
  },
  {
   "cell_type": "markdown",
   "metadata": {},
   "source": [
    "# Secrets Sync with AWS Secrets Manager\n",
    "\n",
    "Ref: https://developer.hashicorp.com/vault/docs/sync/awssm\n",
    "\n",
    "Follow the steps to create new IAM user with programmatic keys and the required policy.\n",
    "\n",
    "Ref: https://developer.hashicorp.com/vault/docs/sync/awssm#setup"
   ]
  },
  {
   "cell_type": "code",
   "execution_count": null,
   "metadata": {
    "vscode": {
     "languageId": "shellscript"
    }
   },
   "outputs": [],
   "source": [
    "# For HashiCorp staff only.  Log in via doormat and populate your AWS credentials into your environment variables.\n",
    "doormat login -f && eval $(doormat aws export --role $(doormat aws list | grep -m 1 role))\n",
    "\n",
    "# For normal usage, you will setup the AWS IAM programmatic credentials that contain the permissions to secrets manager\n",
    "# Ref: https://developer.hashicorp.com/vault/docs/sync/awssm#setup\n",
    "\n",
    "# Make sure the AWS_ACCESS_KEY_ID, AWS_SECRET_ACCESS_KEY, and AWS_SESSION_TOKEN environment variables are populated\n",
    "echo\n",
    "echo \"AWS_ACCESS_KEY_ID: ${AWS_ACCESS_KEY_ID}\"\n",
    "echo \"AWS_SECRET_ACCESS_KEY: ${AWS_SECRET_ACCESS_KEY}\"\n",
    "echo \"AWS_SESSION_TOKEN: ${AWS_SESSION_TOKEN}\""
   ]
  },
  {
   "cell_type": "code",
   "execution_count": null,
   "metadata": {
    "vscode": {
     "languageId": "shellscript"
    }
   },
   "outputs": [],
   "source": [
    "export AWS_REGION=us-east-1\n",
    "# Write the configuration for the sync settings\n",
    "# Note: We are using session_token as our doormat account only allows short-lived credentials.\n",
    "#       session_token only works in 1.15-ent.  In GA for 1.16.x or later, this is no longer allowed.\n",
    "#       You will need to use the other command below with a proper IAM programmatic credential.\n",
    "vault write sys/sync/destinations/aws-sm/my-awssm-1 \\\n",
    "     access_key_id=\"$AWS_ACCESS_KEY_ID\" \\\n",
    "     secret_access_key=\"$AWS_SECRET_ACCESS_KEY\" \\\n",
    "     session_token=\"$AWS_SESSION_TOKEN\" \\\n",
    "     region=\"$AWS_REGION\"\n",
    "\n",
    "# Use this command when you have the AWS IAM programmatic keys without the session token\n",
    "# vault write sys/sync/destinations/aws-sm/my-awssm-1 \\\n",
    "#      access_key_id=\"$AWS_ACCESS_KEY_ID\" \\\n",
    "#      secret_access_key=\"$AWS_SECRET_ACCESS_KEY\" \\\n",
    "#      region=\"$AWS_REGION\"\n"
   ]
  },
  {
   "cell_type": "code",
   "execution_count": null,
   "metadata": {
    "vscode": {
     "languageId": "shellscript"
    }
   },
   "outputs": [],
   "source": [
    "# Configure the sync to the secret\n",
    "echo \"KV v2 Path: $KV_V2_PATH\"\n",
    "echo \"Secret name: $MY_SECRET_NAME\"\n",
    "vault write sys/sync/destinations/aws-sm/my-awssm-1/associations/set \\\n",
    "    mount=\"$KV_V2_PATH\" \\\n",
    "    secret_name=\"$MY_SECRET_NAME\"\n",
    "\n",
    "# Check in your AWS Console that the secret has been created\n",
    "# verify that the secret values match\n",
    "vault kv get $KV_V2_PATH/$MY_SECRET_NAME"
   ]
  },
  {
   "cell_type": "markdown",
   "metadata": {},
   "source": [
    "# Secrets Sync with Azure Key Vault\n",
    "\n",
    "Ref: https://developer.hashicorp.com/vault/docs/sync/azurekv\n",
    "\n",
    "## Setup your Azure Key Vault resource\n",
    "1) Create a new \"key vault\" resource.  Give a name, region, and resource group.  Review and Create.\n",
    "2) Create a application under App registrations in Microsoft Entra ID to be used by the sync process. Ref: https://learn.microsoft.com/en-us/entra/identity-platform/howto-create-service-principal-portal.  Copy the Application ID (or CLIENT_ID).\n",
    "3) Under the application, go to Certificates & secrets and create a new client secret for the application and copy the client secret (or CLIENT_SECRET)\n",
    "4) Assign permissions to key vault to the created application.  Go to the key vault resource > Access control (IAM) > Add role assignment. Select the \"Key Vault Secrets Officer\" role and select the application. Ref: https://learn.microsoft.com/en-us/azure/key-vault/general/rbac-guide\n",
    "5) For the account you are using to access the Azure Console, give the \"Key Vault Administrator\" role so that you can view the synced secret in the later steps."
   ]
  },
  {
   "cell_type": "code",
   "execution_count": null,
   "metadata": {
    "vscode": {
     "languageId": "shellscript"
    }
   },
   "outputs": [],
   "source": [
    "# Please Populate the following environment variables with your own settings\n",
    "export TENANT_ID=\n",
    "export KEY_VAULT_URI=https://<your vault>.vault.azure.net/\n",
    "export CLIENT_SECRET=\n",
    "export CLIENT_ID="
   ]
  },
  {
   "cell_type": "code",
   "execution_count": null,
   "metadata": {
    "vscode": {
     "languageId": "shellscript"
    }
   },
   "outputs": [],
   "source": [
    "# Set up the credentials for the sync to Azure Key Vault\n",
    "echo \"Key Vault URI: $KEY_VAULT_URI\"\n",
    "echo \"Tenant ID: $TENANT_ID\"\n",
    "echo \"Subscription ID: $SUBSCRIPTION_ID\"\n",
    "echo $CLIENT_ID\n",
    "#echo $CLIENT_SECRET\n",
    "vault write sys/sync/destinations/azure-kv/my-azure-1 \\\n",
    "    key_vault_uri=\"$KEY_VAULT_URI\" \\\n",
    "    client_id=\"$CLIENT_ID\" \\\n",
    "    client_secret=\"$CLIENT_SECRET\" \\\n",
    "    tenant_id=\"$TENANT_ID\" \n",
    "    #subscription_id=\"$SUBSCRIPTION_ID\""
   ]
  },
  {
   "cell_type": "code",
   "execution_count": null,
   "metadata": {
    "vscode": {
     "languageId": "shellscript"
    }
   },
   "outputs": [],
   "source": [
    "# Configure the sync to the secret\n",
    "echo \"KV v2 Path: $KV_V2_PATH\"\n",
    "echo \"Secret name: $MY_SECRET_NAME\"\n",
    "vault write sys/sync/destinations/azure-kv/my-azure-1/associations/set \\\n",
    "    mount=\"$KV_V2_PATH\" \\\n",
    "    secret_name=\"$MY_SECRET_NAME\"\n",
    "\n",
    "# Check in your Azure Console that the secret has been created in Key Vault\n",
    "# verify that the secret values match\n",
    "vault kv get $KV_V2_PATH/$MY_SECRET_NAME"
   ]
  },
  {
   "cell_type": "markdown",
   "metadata": {},
   "source": [
    "# Secrets sync with Google Cloud Platform\n",
    "Ref:\n",
    "- https://developer.hashicorp.com/vault/docs/sync/gcpsm\n",
    "\n",
    "Set your google credentials before running this\n",
    "- Ref: https://developer.hashicorp.com/vault/docs/sync/gcpsm#provision-service-account\n",
    "- Ref: https://cloud.google.com/iam/docs/service-accounts-create\n",
    "1) Enable IAM\n",
    "2) Create Service Account - IAM & Admin > Service Accounts.  Click \"CREATE SERVICE ACCOUNT\" and give a name.  Copy the email of the created service account.\n",
    "3) Click into service account, click on KEYS tab > ADD KEY > Create new key.  Select JSON for key type and click CREATE.\n",
    "4) Download the json file to this folder and rename to gcp-sm-sync-service-account-credential.json\n",
    "5) Give permissions to the service account - IAM & Admin > IAM.  Click on \"GRANT ACCESS\".  Paste the copied email for principals and assign the Secrets Manager Admin role.\n"
   ]
  },
  {
   "cell_type": "code",
   "execution_count": null,
   "metadata": {
    "vscode": {
     "languageId": "shellscript"
    }
   },
   "outputs": [],
   "source": [
    "# Make sure you update the credentials json with your own credentials\n",
    "vault write sys/sync/destinations/gcp-sm/my-dest \\\n",
    "    credentials=\"@gcp-sm-sync-service-account-credential.json\""
   ]
  },
  {
   "cell_type": "code",
   "execution_count": null,
   "metadata": {
    "vscode": {
     "languageId": "shellscript"
    }
   },
   "outputs": [],
   "source": [
    "# Configure the sync to the secret\n",
    "echo \"KV v2 Path: $KV_V2_PATH\"\n",
    "echo \"Secret name: $MY_SECRET_NAME\"\n",
    "vault write sys/sync/destinations/gcp-sm/my-dest/associations/set \\\n",
    "    mount=\"$KV_V2_PATH\" \\\n",
    "    secret_name=\"$MY_SECRET_NAME\"\n",
    "\n",
    "# Check in your GCP Console that the secret has been created in GCP Secret Manager\n",
    "# verify that the secret values match\n",
    "vault kv get $KV_V2_PATH/$MY_SECRET_NAME"
   ]
  },
  {
   "cell_type": "markdown",
   "metadata": {},
   "source": [
    "# Rotating the Secret and Syncing in Action"
   ]
  },
  {
   "cell_type": "code",
   "execution_count": null,
   "metadata": {
    "vscode": {
     "languageId": "shellscript"
    }
   },
   "outputs": [],
   "source": [
    "# Update the secret value\n",
    "vault kv put -mount=$KV_V2_PATH $MY_SECRET_NAME \\\n",
    "  userid=\"svc-account-$(openssl rand -base64 10 | tr -dc 'a-zA-Z0-9')\" \\\n",
    "  password=\"$(openssl rand -base64 20 | tr -dc 'a-zA-Z0-9')\"\n",
    "\n",
    "# Verify that the secret values match\n",
    "vault kv get $KV_V2_PATH/$MY_SECRET_NAME\n",
    "\n",
    "# Log into your configured CSP secrets manager and view the new secret value\n",
    "# For Azure and GCP, refresh to see a new version of the secret"
   ]
  },
  {
   "cell_type": "markdown",
   "metadata": {},
   "source": [
    "# Cleanup"
   ]
  },
  {
   "cell_type": "code",
   "execution_count": null,
   "metadata": {
    "vscode": {
     "languageId": "shellscript"
    }
   },
   "outputs": [],
   "source": [
    "# Cleanup AWS Secrets Manager\n",
    "\n",
    "# Remove association\n",
    "vault write sys/sync/destinations/aws-sm/my-awssm-1/associations/remove \\\n",
    "    mount=\"$KV_V2_PATH\" \\\n",
    "    secret_name=\"$MY_SECRET_NAME\"\n",
    "# Delete secret sync destination\n",
    "vault delete sys/sync/destinations/aws-sm/my-awssm-1"
   ]
  },
  {
   "cell_type": "code",
   "execution_count": null,
   "metadata": {
    "vscode": {
     "languageId": "shellscript"
    }
   },
   "outputs": [],
   "source": [
    "# Clean Azure Key Vault\n",
    "vault write sys/sync/destinations/azure-kv/my-azure-1/associations/remove \\\n",
    "    mount=\"$KV_V2_PATH\" \\\n",
    "    secret_name=\"$MY_SECRET_NAME\"\n",
    "# Delete secret sync destination\n",
    "vault delete sys/sync/destinations/azure-kv/my-azure-1"
   ]
  },
  {
   "cell_type": "code",
   "execution_count": null,
   "metadata": {
    "vscode": {
     "languageId": "shellscript"
    }
   },
   "outputs": [],
   "source": [
    "# Clean GCP Secrets Manager\n",
    "vault write sys/sync/destinations/gcp-sm/my-dest/associations/remove \\\n",
    "    mount=\"$KV_V2_PATH\" \\\n",
    "    secret_name=\"$MY_SECRET_NAME\"\n",
    "# Delete secret sync destination\n",
    "vault delete sys/sync/destinations/gcp-sm/my-dest"
   ]
  },
  {
   "cell_type": "code",
   "execution_count": null,
   "metadata": {
    "vscode": {
     "languageId": "shellscript"
    }
   },
   "outputs": [],
   "source": [
    "# Stop Vault container\n",
    "docker stop vault-enterprise"
   ]
  }
 ],
 "metadata": {
  "kernelspec": {
   "display_name": "Bash",
   "language": "bash",
   "name": "bash"
  },
  "language_info": {
   "codemirror_mode": "shell",
   "file_extension": ".sh",
   "mimetype": "text/x-sh",
   "name": "bash"
  },
  "orig_nbformat": 4
 },
 "nbformat": 4,
 "nbformat_minor": 2
}
